{
 "cells": [
  {
   "cell_type": "markdown",
   "metadata": {},
   "source": [
    "## [作業目標]\n",
    "了解機器學習適合應用的領域與範疇。"
   ]
  },
  {
   "cell_type": "markdown",
   "metadata": {},
   "source": [
    "## [作業重點]\n",
    "透過瞭解機器學習的運作方式，找出非常適用機器學習應用的領域及其原因"
   ]
  },
  {
   "cell_type": "markdown",
   "metadata": {},
   "source": [
    "## 作業\n",
    "請找出一個你認為機器學習可以發光發熱的領域並闡述原因? "
   ]
  },
  {
   "cell_type": "code",
   "execution_count": 2,
   "metadata": {},
   "outputs": [
    {
     "ename": "SyntaxError",
     "evalue": "invalid character in identifier (<ipython-input-2-32fa74f6bb65>, line 1)",
     "output_type": "error",
     "traceback": [
      "\u001b[0;36m  File \u001b[0;32m\"<ipython-input-2-32fa74f6bb65>\"\u001b[0;36m, line \u001b[0;32m1\u001b[0m\n\u001b[0;31m    機器學習可以在醫療診斷上提供參考，醫學檢查，特別是影像醫學和大腦生理檢查，其結果經常難以量化或者資料量太大而不易找出其中規律。這些往往\u001b[0m\n\u001b[0m                                                                      ^\u001b[0m\n\u001b[0;31mSyntaxError\u001b[0m\u001b[0;31m:\u001b[0m invalid character in identifier\n"
     ]
    }
   ],
   "source": [
    "   機器學習可以在醫療診斷上提供參考，醫學檢查，特別是影像醫學和大腦生理檢查，其結果經常難以量化或者資料量太大而不易找出其中規律。這些往往\n",
    "需要有經驗的醫療人員進行判讀，然而醫療人員需經過長時間培訓，且不同人對結果的判讀標準不一，因此機器學習的醫療診斷系統將能重複驗證人為判讀的\n",
    "結果以及輔助人員訓練。\n"
   ]
  }
 ],
 "metadata": {
  "kernelspec": {
   "display_name": "Python 3",
   "language": "python",
   "name": "python3"
  },
  "language_info": {
   "codemirror_mode": {
    "name": "ipython",
    "version": 3
   },
   "file_extension": ".py",
   "mimetype": "text/x-python",
   "name": "python",
   "nbconvert_exporter": "python",
   "pygments_lexer": "ipython3",
   "version": "3.6.1"
  }
 },
 "nbformat": 4,
 "nbformat_minor": 2
}
